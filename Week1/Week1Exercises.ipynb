{
 "cells": [
  {
   "cell_type": "code",
   "execution_count": 3,
   "id": "b6ab925e-03b4-45da-b09d-98a4406dea21",
   "metadata": {
    "scrolled": true
   },
   "outputs": [
    {
     "data": {
      "text/plain": [
       "['Hans', 'Henning']"
      ]
     },
     "execution_count": 3,
     "metadata": {},
     "output_type": "execute_result"
    }
   ],
   "source": [
    "names = ['John', 'Hans', 'Jørgen', 'Henning', 'Jesper']\n",
    "hNames = [h for h in names if h[0]=='H']\n",
    "hNames"
   ]
  },
  {
   "cell_type": "code",
   "execution_count": 53,
   "id": "d66cc09a-4850-4685-ba15-afb9bb9b649b",
   "metadata": {},
   "outputs": [
    {
     "data": {
      "text/plain": [
       "[1, 8, 27, 64, 125, 216, 343, 512, 729]"
      ]
     },
     "execution_count": 53,
     "metadata": {},
     "output_type": "execute_result"
    }
   ],
   "source": [
    "numbers = [n**3 for n in range(1, 10)]\n",
    "numbers"
   ]
  },
  {
   "cell_type": "code",
   "execution_count": 8,
   "id": "c13df8b8",
   "metadata": {},
   "outputs": [
    {
     "data": {
      "text/plain": [
       "[(4, 'John'), (4, 'Hans'), (6, 'Jørgen'), (7, 'Henning'), (6, 'Jesper')]"
      ]
     },
     "execution_count": 8,
     "metadata": {},
     "output_type": "execute_result"
    }
   ],
   "source": [
    "namesLength = [tuple((len(l), l)) for l in names]\n",
    "namesLength"
   ]
  },
  {
   "cell_type": "code",
   "execution_count": 10,
   "id": "27c50ebe",
   "metadata": {},
   "outputs": [
    {
     "data": {
      "text/plain": [
       "['2', '3', '4', '2', '3', '2', '5', '2', '4', '2']"
      ]
     },
     "execution_count": 10,
     "metadata": {},
     "output_type": "execute_result"
    }
   ],
   "source": [
    "st = [c for c in 'nj234njfl23k25kk242' if c.isnumeric()]\n",
    "st"
   ]
  },
  {
   "cell_type": "code",
   "execution_count": 1,
   "id": "bcae6361",
   "metadata": {},
   "outputs": [
    {
     "data": {
      "text/plain": [
       "{(1, 1),\n",
       " (1, 2),\n",
       " (1, 3),\n",
       " (1, 4),\n",
       " (1, 5),\n",
       " (1, 6),\n",
       " (2, 2),\n",
       " (2, 3),\n",
       " (2, 4),\n",
       " (2, 5),\n",
       " (2, 6),\n",
       " (3, 3),\n",
       " (3, 4),\n",
       " (3, 5),\n",
       " (3, 6),\n",
       " (4, 4),\n",
       " (4, 5),\n",
       " (4, 6),\n",
       " (5, 5),\n",
       " (5, 6),\n",
       " (6, 6)}"
      ]
     },
     "execution_count": 1,
     "metadata": {},
     "output_type": "execute_result"
    }
   ],
   "source": [
    "dice_rolls = set(([tuple((d,b)) for d in range(1,7) for b in range(1,7) if b>=d]))\n",
    "dice_rolls"
   ]
  },
  {
   "cell_type": "code",
   "execution_count": 3,
   "id": "e334f972",
   "metadata": {},
   "outputs": [
    {
     "data": {
      "text/plain": [
       "{'John': 4, 'Hans': 4, 'Jørgen': 6, 'Henning': 7, 'Jesper': 6}"
      ]
     },
     "execution_count": 3,
     "metadata": {},
     "output_type": "execute_result"
    }
   ],
   "source": [
    "names = ['John', 'Hans', 'Jørgen', 'Henning', 'Jesper']\n",
    "dct = {name:len(name) for name in names}\n",
    "dct"
   ]
  },
  {
   "cell_type": "code",
   "execution_count": 10,
   "id": "95766aec",
   "metadata": {},
   "outputs": [
    {
     "data": {
      "text/plain": [
       "{5: 2.23606797749979,\n",
       " 6: 2.449489742783178,\n",
       " 7: 2.6457513110645907,\n",
       " 8: 2.8284271247461903,\n",
       " 9: 3.0,\n",
       " 10: 3.1622776601683795,\n",
       " 11: 3.3166247903554,\n",
       " 12: 3.4641016151377544,\n",
       " 13: 3.605551275463989,\n",
       " 14: 3.7416573867739413}"
      ]
     },
     "execution_count": 10,
     "metadata": {},
     "output_type": "execute_result"
    }
   ],
   "source": [
    "number = [5,6,7,8,9,10,11,12,13,14]\n",
    "nd = {nu:nu**0.5 for nu in number}\n",
    "nd"
   ]
  },
  {
   "cell_type": "code",
   "execution_count": 67,
   "id": "da901d4c",
   "metadata": {
    "scrolled": true
   },
   "outputs": [
    {
     "name": "stdout",
     "output_type": "stream",
     "text": [
      "\n",
      " Rolls: [2, 3, 4, 5, 6, 7, 3, 4, 5, 6, 7, 8, 4, 5, 6, 7, 8, 9, 5, 6, 7, 8, 9, 10, 6, 7, 8, 9, 10, 11, 7, 8, 9, 10, 11, 12]\n",
      "\n",
      " Roll count: {2: 1, 3: 2, 4: 3, 5: 4, 6: 5, 7: 6, 8: 5, 9: 4, 10: 3, 11: 2, 12: 1}\n",
      "\n",
      " Roll Percentages:\n",
      "(2, 2.7777777777777777)\n",
      "(3, 5.555555555555555)\n",
      "(4, 8.333333333333332)\n",
      "(5, 11.11111111111111)\n",
      "(6, 13.88888888888889)\n",
      "(7, 16.666666666666664)\n",
      "(8, 13.88888888888889)\n",
      "(9, 11.11111111111111)\n",
      "(10, 8.333333333333332)\n",
      "(11, 5.555555555555555)\n",
      "(12, 2.7777777777777777)\n",
      "\n",
      " Sorted Percentages:\n"
     ]
    },
    {
     "data": {
      "text/plain": [
       "{7: 16.666666666666664,\n",
       " 6: 13.88888888888889,\n",
       " 8: 13.88888888888889,\n",
       " 5: 11.11111111111111,\n",
       " 9: 11.11111111111111,\n",
       " 4: 8.333333333333332,\n",
       " 10: 8.333333333333332,\n",
       " 3: 5.555555555555555,\n",
       " 11: 5.555555555555555,\n",
       " 2: 2.7777777777777777,\n",
       " 12: 2.7777777777777777}"
      ]
     },
     "execution_count": 67,
     "metadata": {},
     "output_type": "execute_result"
    }
   ],
   "source": [
    "dice_rolls = [d+b for d in range(1,7) for b in range(1,7)]\n",
    "\n",
    "print('\\n Rolls:',dice_rolls)\n",
    "\n",
    "roll_count = {}\n",
    "\n",
    "for roll in dice_rolls:\n",
    "    roll_count.setdefault(roll, 0)\n",
    "    roll_count[roll] += 1\n",
    "\n",
    "print('\\n Roll count:', roll_count)\n",
    "\n",
    "roll_percentages = {k:v/len(dice_rolls)*100 for (k,v) in roll_count.items()}\n",
    "\n",
    "print('\\n Roll Percentages:')\n",
    "for r in roll_percentages.items():\n",
    "    print(r)\n",
    "\n",
    "sorted_percentages = dict(sorted(roll_percentages.items(), key=lambda item: item[1], reverse=True))\n",
    "print('\\n Sorted Percentages:')\n",
    "sorted_percentages\n"
   ]
  },
  {
   "cell_type": "code",
   "execution_count": null,
   "id": "541db1fe",
   "metadata": {},
   "outputs": [],
   "source": []
  }
 ],
 "metadata": {
  "kernelspec": {
   "display_name": "Python 3 (ipykernel)",
   "language": "python",
   "name": "python3"
  },
  "language_info": {
   "codemirror_mode": {
    "name": "ipython",
    "version": 3
   },
   "file_extension": ".py",
   "mimetype": "text/x-python",
   "name": "python",
   "nbconvert_exporter": "python",
   "pygments_lexer": "ipython3",
   "version": "3.10.6"
  }
 },
 "nbformat": 4,
 "nbformat_minor": 5
}
