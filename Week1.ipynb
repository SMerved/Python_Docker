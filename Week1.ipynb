{
 "cells": [
  {
   "cell_type": "code",
   "execution_count": 6,
   "id": "ade6647f-6261-47c7-9591-9dd140f6a637",
   "metadata": {},
   "outputs": [
    {
     "name": "stdout",
     "output_type": "stream",
     "text": [
      "Hello Bob\n",
      "Hello Hans\n",
      "Hello Jens\n",
      "Hello Thomas\n",
      "Hello Hugo\n",
      "Hello Gert\n",
      "Hello Rasmus\n",
      "Hello Martin\n",
      "Hello John\n",
      "Hello Kurt\n"
     ]
    }
   ],
   "source": [
    "lst = ['Bob', 'Hans', 'Jens', 'Thomas', 'Hugo', 'Gert', 'Rasmus', 'Martin', 'John', 'Kurt']\n",
    "for val in lst:\n",
    "    print('Hello ' + val)"
   ]
  },
  {
   "cell_type": "code",
   "execution_count": 18,
   "id": "90390048-204d-457d-8156-49d9421da0b0",
   "metadata": {},
   "outputs": [
    {
     "data": {
      "text/plain": [
       "['Bob Hansen',\n",
       " 'Hans Hansen',\n",
       " 'Jens Hansen',\n",
       " 'Thomas Hansen',\n",
       " 'Hugo Hansen',\n",
       " 'Gert Hansen',\n",
       " 'Rasmus Hansen',\n",
       " 'Martin Hansen',\n",
       " 'John Hansen',\n",
       " 'Kurt Hansen']"
      ]
     },
     "execution_count": 18,
     "metadata": {},
     "output_type": "execute_result"
    }
   ],
   "source": [
    "lst2 = [v + ' Hansen' for v in lst]\n",
    "lst2"
   ]
  },
  {
   "cell_type": "code",
   "execution_count": 23,
   "id": "e27f3ccf-96b7-4d88-95d4-9e1de183bb95",
   "metadata": {},
   "outputs": [
    {
     "name": "stdout",
     "output_type": "stream",
     "text": [
      "(('Bob', 'Gertsen', 23), ('Hans', 'Johnsen', 14), ('Jens', 'Kurtsen', 32), ('Thomas', 'Hansen', 42), ('Hugo', 'Petersen', 54), ('Gert', 'Jensen', 12), ('Rasmus', 'Madsen', 32), ('Martin', 'Oliversen', 23), ('John', 'Rasmussen', 42), ('Kurt', 'Smith', 1))\n"
     ]
    }
   ],
   "source": [
    "lst3 = ['Gertsen', 'Johnsen', 'Kurtsen', 'Hansen', 'Petersen', 'Jensen', 'Madsen', 'Oliversen', 'Rasmussen', 'Smith']\n",
    "lst4 = [23,14,32,42,54,12,32,23,42,1]\n",
    "lst5 = zip(lst, lst3, lst4)\n",
    "print(tuple(lst5))"
   ]
  },
  {
   "cell_type": "code",
   "execution_count": 41,
   "id": "3ada1602-7084-4bf9-a50e-aca597d7cab6",
   "metadata": {},
   "outputs": [],
   "source": [
    "\n"
   ]
  }
 ],
 "metadata": {
  "kernelspec": {
   "display_name": "Python 3 (ipykernel)",
   "language": "python",
   "name": "python3"
  },
  "language_info": {
   "codemirror_mode": {
    "name": "ipython",
    "version": 3
   },
   "file_extension": ".py",
   "mimetype": "text/x-python",
   "name": "python",
   "nbconvert_exporter": "python",
   "pygments_lexer": "ipython3",
   "version": "3.10.6"
  }
 },
 "nbformat": 4,
 "nbformat_minor": 5
}
