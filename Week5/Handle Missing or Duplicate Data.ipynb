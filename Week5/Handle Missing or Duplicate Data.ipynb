{
 "cells": [
  {
   "cell_type": "code",
   "execution_count": null,
   "metadata": {},
   "outputs": [],
   "source": [
    "import pandas as pd\n",
    "dict = {'First Score':[100, 90, None, 95],\n",
    "        'Second Score': [30, 45, 56, None],\n",
    "        'Third Score':[None, 40, 80, 98]}\n",
    "df = pd.DataFrame(dict)\n",
    "df\n"
   ]
  }
 ],
 "metadata": {
  "language_info": {
   "name": "python"
  },
  "orig_nbformat": 4
 },
 "nbformat": 4,
 "nbformat_minor": 2
}
