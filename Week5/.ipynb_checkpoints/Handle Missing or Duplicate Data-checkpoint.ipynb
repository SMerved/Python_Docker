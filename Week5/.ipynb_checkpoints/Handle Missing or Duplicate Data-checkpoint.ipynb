{
 "cells": [
  {
   "cell_type": "code",
   "execution_count": 91,
   "metadata": {},
   "outputs": [
    {
     "name": "stdout",
     "output_type": "stream",
     "text": [
      "   Numbers1  Numbers2  Numbers3  Numbers4\n",
      "0      10.0       5.0        12       NaN\n",
      "1      53.0       NaN        40       NaN\n",
      "2       NaN      76.0        80      80.0\n",
      "3      22.0      42.0        98      98.0\n",
      "\n",
      "    Numbers1  Numbers2  Numbers3  Numbers4\n",
      "0     False     False     False      True\n",
      "1     False      True     False      True\n",
      "2      True     False     False     False\n",
      "3     False     False     False     False\n",
      "\n",
      "    Numbers1  Numbers2  Numbers3  Numbers4\n",
      "0      True      True      True     False\n",
      "1      True     False      True     False\n",
      "2     False      True      True      True\n",
      "3      True      True      True      True\n",
      "\n",
      " Numbers1    1\n",
      "Numbers2    1\n",
      "Numbers3    0\n",
      "Numbers4    2\n",
      "dtype: int64\n"
     ]
    }
   ],
   "source": [
    "import pandas as pd\n",
    "dict = {'Numbers1':[10, 53, None, 22],\n",
    "        'Numbers2': [5, None, 76, 42],\n",
    "        'Numbers3':[12, 40, 80, 98],\n",
    "        'Numbers4':[None, None, 80, 98]}\n",
    "df = pd.DataFrame(dict)\n",
    "print(df)\n",
    "print(\"\\n\", df.isna())\n",
    "print(\"\\n\", df.notna())\n",
    "print(\"\\n\", df.isna().sum())"
   ]
  },
  {
   "cell_type": "code",
   "execution_count": 84,
   "metadata": {},
   "outputs": [
    {
     "name": "stdout",
     "output_type": "stream",
     "text": [
      "   Numbers1  Numbers2  Numbers3  Numbers4\n",
      "0      10.0       5.0        12       NaN\n",
      "1      53.0       NaN        40       NaN\n",
      "2       NaN      76.0        80      80.0\n",
      "3      22.0      42.0        98      98.0\n",
      "\n",
      "    Numbers1  Numbers2  Numbers3  Numbers4\n",
      "3      22.0      42.0        98      98.0\n",
      "\n",
      "    Numbers3\n",
      "0        12\n",
      "1        40\n",
      "2        80\n",
      "3        98\n"
     ]
    }
   ],
   "source": [
    "df = pd.DataFrame(dict)\n",
    "print(df)\n",
    "new_df = df.dropna()\n",
    "print(\"\\n\", new_df)\n",
    "df.dropna(axis = 1, inplace = True)\n",
    "print(\"\\n\", df)"
   ]
  },
  {
   "cell_type": "code",
   "execution_count": 85,
   "metadata": {},
   "outputs": [
    {
     "name": "stdout",
     "output_type": "stream",
     "text": [
      "   Numbers1  Numbers2  Numbers3  Numbers4\n",
      "0      10.0       5.0        12     100.0\n",
      "1      53.0     100.0        40     100.0\n",
      "2     100.0      76.0        80      80.0\n",
      "3      22.0      42.0        98      98.0\n",
      "\n",
      "    Numbers1  Numbers2  Numbers3  Numbers4\n",
      "0      10.0       5.0        12     120.0\n",
      "1      53.0       NaN        40     120.0\n",
      "2       NaN      76.0        80      80.0\n",
      "3      22.0      42.0        98      98.0\n",
      "\n",
      "    Numbers1  Numbers2  Numbers3  Numbers4\n",
      "0      10.0       5.0        12      89.0\n",
      "1      53.0       NaN        40      89.0\n",
      "2       NaN      76.0        80      80.0\n",
      "3      22.0      42.0        98      98.0\n"
     ]
    }
   ],
   "source": [
    "df = pd.DataFrame(dict)\n",
    "df = df.fillna(100)\n",
    "print(df)\n",
    "\n",
    "df = pd.DataFrame(dict)\n",
    "df['Numbers4'].fillna(120, inplace = True)\n",
    "print(\"\\n\", df)\n",
    "\n",
    "df = pd.DataFrame(dict)\n",
    "m = df['Numbers4'].mean()\n",
    "df['Numbers4'].fillna(m, inplace = True)\n",
    "print(\"\\n\", df)"
   ]
  },
  {
   "cell_type": "code",
   "execution_count": 89,
   "metadata": {},
   "outputs": [
    {
     "name": "stdout",
     "output_type": "stream",
     "text": [
      "   Numbers1  Numbers2  Numbers3  Numbers4\n",
      "0        10         5        12        43\n",
      "1        53        76        23        80\n",
      "2        53        76        23        80\n",
      "3        22        42        98        98\n",
      "\n",
      " 0    False\n",
      "1    False\n",
      "2     True\n",
      "3    False\n",
      "dtype: bool\n",
      "\n",
      "    Numbers1  Numbers2  Numbers3  Numbers4\n",
      "0        10         5        12        43\n",
      "1        53        76        23        80\n",
      "3        22        42        98        98\n"
     ]
    }
   ],
   "source": [
    "dict2 = {'Numbers1':[10, 53, 53, 22],\n",
    "        'Numbers2': [5, 76, 76, 42],\n",
    "        'Numbers3':[12, 23, 23, 98],\n",
    "        'Numbers4':[43, 80, 80, 98]}\n",
    "df = pd.DataFrame(dict2)\n",
    "print(df)\n",
    "print(\"\\n\", df.duplicated())\n",
    "df.drop_duplicates(inplace = True)\n",
    "print(\"\\n\", df)"
   ]
  },
  {
   "cell_type": "code",
   "execution_count": 107,
   "metadata": {},
   "outputs": [
    {
     "name": "stdout",
     "output_type": "stream",
     "text": [
      "  Names1 Names2  Names3\n",
      "0   Hans   None        \n",
      "1    Bob         Henrik\n",
      "2   Jens   Kurt    None\n",
      "\n",
      "    Names1  Names2  Names3\n",
      "0   False    True   False\n",
      "1   False   False   False\n",
      "2   False   False    True\n",
      "\n",
      "   Names1 Names2  Names3\n",
      "0   Hans   Erik        \n",
      "1    Bob         Henrik\n",
      "2   Jens   Kurt    Erik\n",
      "\n",
      "   Names1 Names2  Names3\n",
      "0   Hans   None     NaN\n",
      "1    Bob    NaN  Henrik\n",
      "2   Jens   Kurt    None\n",
      "\n",
      "   Names1 Names2  Names3\n",
      "0   Hans   Erik    Erik\n",
      "1    Bob   Erik  Henrik\n",
      "2   Jens   Kurt    Erik\n"
     ]
    }
   ],
   "source": [
    "dict3 = {'Names1':['Hans', 'Bob', 'Jens'],\n",
    "        'Names2': [None, '', 'Kurt'],\n",
    "        'Names3':['', 'Henrik', None]}\n",
    "df = pd.DataFrame(dict3)\n",
    "print(df)\n",
    "print(\"\\n\", df.isna())\n",
    "new_df = df.fillna('Erik')\n",
    "print(\"\\n\", new_df)\n",
    "df = pd.DataFrame(dict3)\n",
    "new_df = df.mask(df == '')\n",
    "print(\"\\n\", new_df)\n",
    "new_df = new_df.fillna('Erik')\n",
    "print(\"\\n\", new_df)\n"
   ]
  }
 ],
 "metadata": {
  "kernelspec": {
   "display_name": "Python 3 (ipykernel)",
   "language": "python",
   "name": "python3"
  },
  "language_info": {
   "codemirror_mode": {
    "name": "ipython",
    "version": 3
   },
   "file_extension": ".py",
   "mimetype": "text/x-python",
   "name": "python",
   "nbconvert_exporter": "python",
   "pygments_lexer": "ipython3",
   "version": "3.10.6"
  }
 },
 "nbformat": 4,
 "nbformat_minor": 4
}
