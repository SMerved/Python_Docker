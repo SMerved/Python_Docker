{
 "cells": [
  {
   "cell_type": "code",
   "execution_count": 15,
   "metadata": {},
   "outputs": [
    {
     "data": {
      "text/html": [
       "<div>\n",
       "<style scoped>\n",
       "    .dataframe tbody tr th:only-of-type {\n",
       "        vertical-align: middle;\n",
       "    }\n",
       "\n",
       "    .dataframe tbody tr th {\n",
       "        vertical-align: top;\n",
       "    }\n",
       "\n",
       "    .dataframe thead th {\n",
       "        text-align: right;\n",
       "    }\n",
       "</style>\n",
       "<table border=\"1\" class=\"dataframe\">\n",
       "  <thead>\n",
       "    <tr style=\"text-align: right;\">\n",
       "      <th></th>\n",
       "      <th>CIVILSTAND</th>\n",
       "      <th>TID</th>\n",
       "      <th>INDHOLD</th>\n",
       "    </tr>\n",
       "  </thead>\n",
       "  <tbody>\n",
       "    <tr>\n",
       "      <th>0</th>\n",
       "      <td>Fraskilt</td>\n",
       "      <td>2008K1</td>\n",
       "      <td>428864</td>\n",
       "    </tr>\n",
       "    <tr>\n",
       "      <th>1</th>\n",
       "      <td>Fraskilt</td>\n",
       "      <td>2020K1</td>\n",
       "      <td>544588</td>\n",
       "    </tr>\n",
       "  </tbody>\n",
       "</table>\n",
       "</div>"
      ],
      "text/plain": [
       "  CIVILSTAND     TID  INDHOLD\n",
       "0   Fraskilt  2008K1   428864\n",
       "1   Fraskilt  2020K1   544588"
      ]
     },
     "execution_count": 15,
     "metadata": {},
     "output_type": "execute_result"
    }
   ],
   "source": [
    "import pandas as pd \n",
    "url = 'https://api.statbank.dk/v1/data/FOLK1A/CSV?delimiter=Semicolon&CIVILSTAND=F&Tid=2008K1%2C2020K1'\n",
    "dst = pd.read_csv(url, sep=';')\n",
    "dst.to_csv('divorced-danes.csv', encoding='utf-8', index=False)\n",
    "dst[:5]\n"
   ]
  },
  {
   "cell_type": "code",
   "execution_count": 23,
   "metadata": {},
   "outputs": [
    {
     "name": "stdout",
     "output_type": "stream",
     "text": [
      "26.983845694672436 %\n"
     ]
    }
   ],
   "source": [
    "df = pd.read_csv('divorced-danes.csv')\n",
    "print((df.iloc[1,2]-df.iloc[0,2])/df.iloc[0,2]*100, \"%\")\n"
   ]
  },
  {
   "cell_type": "code",
   "execution_count": 32,
   "metadata": {},
   "outputs": [
    {
     "data": {
      "text/html": [
       "<div>\n",
       "<style scoped>\n",
       "    .dataframe tbody tr th:only-of-type {\n",
       "        vertical-align: middle;\n",
       "    }\n",
       "\n",
       "    .dataframe tbody tr th {\n",
       "        vertical-align: top;\n",
       "    }\n",
       "\n",
       "    .dataframe thead th {\n",
       "        text-align: right;\n",
       "    }\n",
       "</style>\n",
       "<table border=\"1\" class=\"dataframe\">\n",
       "  <thead>\n",
       "    <tr style=\"text-align: right;\">\n",
       "      <th></th>\n",
       "      <th>OMRÅDE</th>\n",
       "      <th>TID</th>\n",
       "      <th>CIVILSTAND</th>\n",
       "      <th>INDHOLD</th>\n",
       "    </tr>\n",
       "  </thead>\n",
       "  <tbody>\n",
       "    <tr>\n",
       "      <th>0</th>\n",
       "      <td>København</td>\n",
       "      <td>2020K1</td>\n",
       "      <td>I alt</td>\n",
       "      <td>632340</td>\n",
       "    </tr>\n",
       "    <tr>\n",
       "      <th>1</th>\n",
       "      <td>København</td>\n",
       "      <td>2020K1</td>\n",
       "      <td>Ugift</td>\n",
       "      <td>412512</td>\n",
       "    </tr>\n",
       "    <tr>\n",
       "      <th>2</th>\n",
       "      <td>København</td>\n",
       "      <td>2020K1</td>\n",
       "      <td>Gift/separeret</td>\n",
       "      <td>150458</td>\n",
       "    </tr>\n",
       "    <tr>\n",
       "      <th>3</th>\n",
       "      <td>København</td>\n",
       "      <td>2020K1</td>\n",
       "      <td>Enke/enkemand</td>\n",
       "      <td>14630</td>\n",
       "    </tr>\n",
       "    <tr>\n",
       "      <th>4</th>\n",
       "      <td>København</td>\n",
       "      <td>2020K1</td>\n",
       "      <td>Fraskilt</td>\n",
       "      <td>54740</td>\n",
       "    </tr>\n",
       "  </tbody>\n",
       "</table>\n",
       "</div>"
      ],
      "text/plain": [
       "      OMRÅDE     TID      CIVILSTAND  INDHOLD\n",
       "0  København  2020K1           I alt   632340\n",
       "1  København  2020K1           Ugift   412512\n",
       "2  København  2020K1  Gift/separeret   150458\n",
       "3  København  2020K1   Enke/enkemand    14630\n",
       "4  København  2020K1        Fraskilt    54740"
      ]
     },
     "execution_count": 32,
     "metadata": {},
     "output_type": "execute_result"
    }
   ],
   "source": [
    "url = 'https://api.statbank.dk/v1/data/FOLK1A/CSV?delimiter=Semicolon&OMR%C3%85DE=101%2C147%2C155%2C185%2C165%2C151%2C153%2C157%2C159%2C161%2C163%2C167%2C169%2C183%2C173%2C175%2C187%2C201%2C240%2C210%2C250%2C190%2C270%2C260%2C217%2C219%2C223%2C230%2C411%2C253%2C259%2C350%2C265%2C269%2C320%2C376%2C316%2C326%2C360%2C370%2C306%2C329%2C330%2C340%2C336%2C390%2C420%2C430%2C440%2C482%2C410%2C480%2C450%2C461%2C479%2C760%2C665%2C756%2C661%2C657%2C751%2C706%2C746%2C740%2C741%2C730%2C727%2C707%2C615%2C766%2C710%2C580%2C630%2C575%2C573%2C550%2C540%2C621%2C510%2C607%2C563%2C561%2C530%2C492%2C779%2C671%2C791%2C810%2C813%2C860%2C849%2C825%2C846%2C773%2C840%2C787%2C820%2C851&Tid=2020K1&CIVILSTAND=*'\n",
    "dst = pd.read_csv(url, sep=';')\n",
    "dst.to_csv('biggest-cities.csv', encoding='utf-8', index=False)\n",
    "dst.head()\n"
   ]
  },
  {
   "cell_type": "code",
   "execution_count": 125,
   "metadata": {},
   "outputs": [
    {
     "name": "stderr",
     "output_type": "stream",
     "text": [
      "C:\\Users\\Søren Merved\\AppData\\Local\\Temp\\ipykernel_11668\\4272896732.py:4: UserWarning: Boolean Series key will be reindexed to match DataFrame index.\n",
      "  ds = df_sorted[mask].iloc[0:5,0]\n"
     ]
    },
    {
     "data": {
      "text/plain": [
       "{'København': 65.23579087199924,\n",
       " 'Aarhus': 59.576893734838556,\n",
       " 'Aalborg': 54.448462512956354,\n",
       " 'Odense': 54.90129090509773,\n",
       " 'Vejle': 47.040121643570515}"
      ]
     },
     "execution_count": 125,
     "metadata": {},
     "output_type": "execute_result"
    }
   ],
   "source": [
    "df = pd.read_csv('biggest-cities.csv')\n",
    "mask = df['CIVILSTAND'] == 'I alt'\n",
    "df_sorted = df.sort_values(by=['INDHOLD'], ascending=False)\n",
    "ds = df_sorted[mask].iloc[0:5,0]\n",
    "ds.index = [1,2,3,4,5]\n",
    "\n",
    "\n",
    "def calculate_percentage(d):\n",
    "    ds2 = df.loc[df['OMRÅDE']== ds[d]]\n",
    "    percentage = ds2.iloc[1,3]/ds2.iloc[0,3]*100\n",
    "    return percentage\n",
    "\n",
    "percentage_by_city = dict([(ds[d],calculate_percentage(d)) for d in range(1,6)])\n",
    "\n",
    "percentage_by_city\n",
    "\n",
    "\n"
   ]
  }
 ],
 "metadata": {
  "kernelspec": {
   "display_name": "Python 3",
   "language": "python",
   "name": "python3"
  },
  "language_info": {
   "name": "python",
   "version": "3.10.7"
  },
  "orig_nbformat": 4,
  "vscode": {
   "interpreter": {
    "hash": "369f2c481f4da34e4445cda3fffd2e751bd1c4d706f27375911949ba6bb62e1c"
   }
  }
 },
 "nbformat": 4,
 "nbformat_minor": 2
}
