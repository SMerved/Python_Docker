{
 "cells": [
  {
   "cell_type": "code",
   "execution_count": 58,
   "id": "f93b14e4",
   "metadata": {},
   "outputs": [
    {
     "name": "stdout",
     "output_type": "stream",
     "text": [
      "Unsorted: ['B', 'C', 'A', 'a', 'D']\n",
      "Sorted: ['A', 'B', 'C', 'D', 'a']\n",
      "Sorted without Upper/lower: ['A', 'a', 'B', 'C', 'D']\n"
     ]
    }
   ],
   "source": [
    "letters = ['B', 'C', 'A', 'a', 'D']\n",
    "print('Unsorted:', letters)\n",
    "\n",
    "sorted_letters = sorted(letters)\n",
    "print('Sorted:', sorted_letters)\n",
    "\n",
    "sorted_letters2 = sorted(letters, key=str.lower)\n",
    "print('Sorted without Upper/lower:', sorted_letters2)"
   ]
  },
  {
   "cell_type": "code",
   "execution_count": 41,
   "id": "cbb24799",
   "metadata": {},
   "outputs": [
    {
     "name": "stdout",
     "output_type": "stream",
     "text": [
      "Unsorted: [2, 3, 1, -5]\n",
      "Sorted: [-5, 1, 2, 3]\n",
      "Reverse: [3, 2, 1, -5]\n"
     ]
    }
   ],
   "source": [
    "numbers = [2, 3, 1, -5]\n",
    "print('Unsorted:', numbers)\n",
    "\n",
    "numbers.sort()\n",
    "print('Sorted:', numbers)\n",
    "\n",
    "numbers.sort(reverse=True)\n",
    "print('Reverse:', numbers)"
   ]
  },
  {
   "cell_type": "code",
   "execution_count": 15,
   "id": "7936271e",
   "metadata": {},
   "outputs": [
    {
     "name": "stdout",
     "output_type": "stream",
     "text": [
      "['bird', 'giraf', 'monkey', 'crocodile']\n"
     ]
    }
   ],
   "source": [
    "my_list = ['monkey','giraf','crocodile','bird']\n",
    "my_list.sort(key=lambda x:len(x))\n",
    "print(my_list)"
   ]
  },
  {
   "cell_type": "code",
   "execution_count": 56,
   "id": "aa3086c2",
   "metadata": {},
   "outputs": [
    {
     "name": "stdout",
     "output_type": "stream",
     "text": [
      "'tuple' object has no attribute 'sort'\n",
      "\n",
      " ('e', 'l', 'p', 't', 'u')\n"
     ]
    }
   ],
   "source": [
    "my_tuple = ('t', 'u', 'p', 'l', 'e')\n",
    "try:\n",
    "    my_tuple.sort()\n",
    "except Exception as e:\n",
    "    print(e)\n",
    "    \n",
    "tuple_list = list(my_tuple)\n",
    "tuple_list.sort()\n",
    "print('\\n', tuple(tuple_list))"
   ]
  },
  {
   "cell_type": "code",
   "execution_count": 27,
   "id": "ff13d7af",
   "metadata": {},
   "outputs": [
    {
     "name": "stdout",
     "output_type": "stream",
     "text": [
      "['S', 'g', 'i', 'n', 'r', 't']\n"
     ]
    },
    {
     "data": {
      "text/plain": [
       "'Sginrt'"
      ]
     },
     "execution_count": 27,
     "metadata": {},
     "output_type": "execute_result"
    }
   ],
   "source": [
    "s = 'String'\n",
    "sorted_s = sorted(s)\n",
    "print(sorted_s)\n",
    "''.join(sorted_s)"
   ]
  },
  {
   "cell_type": "code",
   "execution_count": 23,
   "id": "4d237404",
   "metadata": {},
   "outputs": [
    {
     "name": "stdout",
     "output_type": "stream",
     "text": [
      "[('Hulda', 31), ('Holger', 25), ('Helga', 54), ('Hasse', 76), ('Hassan', 43), ('Hansi', 102), ('Halvor', 12)]\n"
     ]
    },
    {
     "data": {
      "text/plain": [
       "{'Hansi': 102,\n",
       " 'Hasse': 76,\n",
       " 'Helga': 54,\n",
       " 'Hassan': 43,\n",
       " 'Hulda': 31,\n",
       " 'Holger': 25,\n",
       " 'Halvor': 12}"
      ]
     },
     "execution_count": 23,
     "metadata": {},
     "output_type": "execute_result"
    }
   ],
   "source": [
    "people = {'Holger':25,'Helga':54,'Hasse':76,'Halvor':12,'Hassan':43,'Hulda':31,'Hansi':102}\n",
    "people_sorted_list = sorted(people.items(), key=lambda item: item[0], reverse=True)\n",
    "print(people_sorted_list)\n",
    "\n",
    "people_sorted = dict(sorted(people.items(), key=lambda item: item[m], reverse=True))\n",
    "people_sorted"
   ]
  },
  {
   "cell_type": "code",
   "execution_count": 36,
   "id": "2d557d17",
   "metadata": {},
   "outputs": [
    {
     "name": "stdout",
     "output_type": "stream",
     "text": [
      "Set Before Sorting: {1, 2, 3, 4}\n",
      "List After Sorting: [4, 3, 2, 1]\n",
      "Set After Sorting: {1, 2, 3, 4}\n"
     ]
    }
   ],
   "source": [
    "my_set = {3,4,1,2}\n",
    "print('Set Before Sorting:', my_set)\n",
    "\n",
    "sorted_set_list = sorted(my_set, reverse=True)\n",
    "print('List After Sorting:', sorted_set_list)\n",
    "\n",
    "sorted_set = set(sorted_set_list)\n",
    "print('Set After Sorting:', sorted_set)"
   ]
  }
 ],
 "metadata": {
  "kernelspec": {
   "display_name": "Python 3 (ipykernel)",
   "language": "python",
   "name": "python3"
  },
  "language_info": {
   "codemirror_mode": {
    "name": "ipython",
    "version": 3
   },
   "file_extension": ".py",
   "mimetype": "text/x-python",
   "name": "python",
   "nbconvert_exporter": "python",
   "pygments_lexer": "ipython3",
   "version": "3.10.6"
  }
 },
 "nbformat": 4,
 "nbformat_minor": 5
}
