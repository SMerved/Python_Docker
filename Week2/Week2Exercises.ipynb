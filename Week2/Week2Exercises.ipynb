{
 "cells": [
  {
   "cell_type": "code",
   "execution_count": 9,
   "metadata": {},
   "outputs": [
    {
     "name": "stdout",
     "output_type": "stream",
     "text": [
      "['2015', '1', '0', '5100', '\"614', '5\"']\n",
      "['2015', '1', '0', '5104', '\"2', '3\"']\n",
      "['2015', '1', '0', '5106', '1']\n",
      "['2015', '1', '0', '5110', '1']\n"
     ]
    }
   ],
   "source": [
    "import csv, platform\n",
    "\n",
    "def print_file_content():\n",
    "    with open('output.csv', 'w', newline='') as output_file:\n",
    "        output_writer = csv.writer(output_file)\n",
    "    \n",
    "        output_writer.writerow(['2015', '1', '0', '5100', '614,5'])\n",
    "        output_writer.writerow(['2015', '1', '0', '5104', '2,3'])\n",
    "        output_writer.writerow(['2015', '1', '0', '5106', '1'])\n",
    "        output_writer.writerow(['2015', '1', '0', '5110', '1'])\n",
    "    \n",
    "    with open('output.csv') as f_obj:\n",
    "        content = f_obj.readlines()\n",
    "    for line in content[:20]:\n",
    "        print(line.strip().split(','))\n",
    "print_file_content()"
   ]
  }
 ],
 "metadata": {
  "kernelspec": {
   "display_name": "Python 3",
   "language": "python",
   "name": "python3"
  },
  "language_info": {
   "codemirror_mode": {
    "name": "ipython",
    "version": 3
   },
   "file_extension": ".py",
   "mimetype": "text/x-python",
   "name": "python",
   "nbconvert_exporter": "python",
   "pygments_lexer": "ipython3",
   "version": "3.10.7"
  },
  "orig_nbformat": 4,
  "vscode": {
   "interpreter": {
    "hash": "369f2c481f4da34e4445cda3fffd2e751bd1c4d706f27375911949ba6bb62e1c"
   }
  }
 },
 "nbformat": 4,
 "nbformat_minor": 2
}
